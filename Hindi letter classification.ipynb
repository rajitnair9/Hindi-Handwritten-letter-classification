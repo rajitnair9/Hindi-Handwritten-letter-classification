{
  "nbformat": 4,
  "nbformat_minor": 0,
  "metadata": {
    "colab": {
      "provenance": []
    },
    "kernelspec": {
      "name": "python3",
      "display_name": "Python 3"
    },
    "language_info": {
      "name": "python"
    },
    "gpuClass": "standard",
    "accelerator": "GPU"
  },
  "cells": [
    {
      "cell_type": "markdown",
      "source": [
        "# Hindi Letter Classification"
      ],
      "metadata": {
        "id": "WO3j6zV39Ajn"
      }
    },
    {
      "cell_type": "markdown",
      "source": [
        "This data consists of 10 directories each consisting of about 2000 images of handrwitten hindi letter i.e there are 10 letters that we need to classify using CNN model."
      ],
      "metadata": {
        "id": "dePXaCX_AN3d"
      }
    },
    {
      "cell_type": "code",
      "execution_count": null,
      "metadata": {
        "id": "CXoI3VlVhGKP"
      },
      "outputs": [],
      "source": [
        "#importing pre-requisites\n",
        "from tensorflow.keras.layers import Input,Lambda,Dense,Flatten\n",
        "from tensorflow.keras.models import Model\n",
        "from tensorflow.keras.models import Sequential\n",
        "import numpy as np"
      ]
    },
    {
      "cell_type": "code",
      "source": [
        "#showing label names\n",
        "import os\n",
        "folders = os.listdir('/content/drive/MyDrive/DevanagariHandwrittenCharacterDataset/Train/')\n",
        "labels = []\n",
        "for folder in folders:\n",
        "  label = folder.split('_')[-1]\n",
        "  labels.append(label)\n",
        "labels"
      ],
      "metadata": {
        "colab": {
          "base_uri": "https://localhost:8080/"
        },
        "id": "Kufc44mMJUa3",
        "outputId": "b9c0be22-e418-45be-ce0d-cf4348710349"
      },
      "execution_count": null,
      "outputs": [
        {
          "output_type": "execute_result",
          "data": {
            "text/plain": [
              "['ja', 'kha', 'cha', 'chha', 'ga', 'yna', 'gha', 'kna', 'jha', 'ka']"
            ]
          },
          "metadata": {},
          "execution_count": 5
        }
      ]
    },
    {
      "cell_type": "markdown",
      "source": [
        "# Loading train and test data"
      ],
      "metadata": {
        "id": "k9653OZzRthj"
      }
    },
    {
      "cell_type": "code",
      "source": [
        "IMAGE_SIZE=[32,32]\n",
        "train_path='/content/drive/MyDrive/DevanagariHandwrittenCharacterDataset/Train'\n",
        "test_path='/content/drive/MyDrive/DevanagariHandwrittenCharacterDataset/Test'"
      ],
      "metadata": {
        "id": "IBXm9VhqK9Fx"
      },
      "execution_count": null,
      "outputs": []
    },
    {
      "cell_type": "code",
      "source": [
        "import os\n",
        "import cv2\n",
        "import numpy as np\n",
        "\n",
        "x_train = []\n",
        "y_train = []\n",
        "x_test = []\n",
        "y_test = []\n",
        "\n",
        "for folder in os.listdir(train_path):\n",
        "  \n",
        "  label = folder.split('_')[-1]\n",
        "\n",
        "  for filename in os.listdir(os.path.join(train_path, folder)):\n",
        "    img = cv2.imread(os.path.join(train_path, folder, filename))\n",
        "    img = cv2.resize(img, IMAGE_SIZE)\n",
        "\n",
        "    x_train.append(img)\n",
        "    y_train.append(label)\n",
        "\n",
        "x_train = np.array(x_train)\n",
        "y_train = np.array(y_train)\n",
        "\n",
        "for folder in os.listdir(test_path):\n",
        " \n",
        "  label = folder.split('_')[-1]\n",
        "\n",
        "  for filename in os.listdir(os.path.join(test_path, folder)):\n",
        "   \n",
        "    img = cv2.imread(os.path.join(test_path, folder, filename))\n",
        "    img = cv2.resize(img, IMAGE_SIZE)\n",
        "\n",
        "    x_test.append(img)\n",
        "    y_test.append(label)\n",
        "\n",
        "x_test = np.array(x_test)\n",
        "y_test = np.array(y_test)\n",
        "np.unique(y_test)"
      ],
      "metadata": {
        "colab": {
          "base_uri": "https://localhost:8080/"
        },
        "id": "3C6kpOjhNd2Y",
        "outputId": "48e04378-cbc3-45d4-c6ac-fcbbc1ea6280"
      },
      "execution_count": null,
      "outputs": [
        {
          "output_type": "execute_result",
          "data": {
            "text/plain": [
              "array(['cha', 'chha', 'ga', 'gha', 'ja', 'jha', 'ka', 'kha', 'kna', 'yna'],\n",
              "      dtype='<U4')"
            ]
          },
          "metadata": {},
          "execution_count": 7
        }
      ]
    },
    {
      "cell_type": "code",
      "source": [
        "#Displaying 10 letters along with their labels\n",
        "import matplotlib.pyplot as plt\n",
        "\n",
        "fig, ax = plt.subplots(2, 5)\n",
        "\n",
        "for i, folder in enumerate(os.listdir(train_path)):\n",
        "\n",
        "  label = folder.split('_')[-1]\n",
        "\n",
        "  filename = os.listdir(os.path.join(train_path, folder))[0]\n",
        "\n",
        "  img = cv2.imread(os.path.join(train_path, folder, filename))\n",
        "  img = cv2.resize(img, IMAGE_SIZE)\n",
        "\n",
        "  row = i // 5\n",
        "  col = i % 5\n",
        "  ax[row, col].imshow(img)\n",
        "  ax[row, col].set_title(label)\n",
        "\n",
        "plt.show()\n"
      ],
      "metadata": {
        "id": "AgzhkQVVOd2y",
        "colab": {
          "base_uri": "https://localhost:8080/",
          "height": 240
        },
        "outputId": "39fcfee0-8f42-4778-f129-2d6737257234"
      },
      "execution_count": null,
      "outputs": [
        {
          "output_type": "display_data",
          "data": {
            "text/plain": [
              "<Figure size 432x288 with 10 Axes>"
            ],
            "image/png": "[encoded data removed]"
          },
          "metadata": {
            "needs_background": "light"
          }
        }
      ]
    },
    {
      "cell_type": "code",
      "source": [
        "import tensorflow as tf\n",
        "unique_labels = set(y_train)\n",
        "\n",
        "label_map = {old_label: i for i, old_label in enumerate(sorted(unique_labels))}\n",
        "print(label_map)\n",
        "\n",
        "y_train = [label_map[label] for label in y_train]\n",
        "y_test = [label_map[label] for label in y_test]\n",
        "\n",
        "y_train = tf.keras.utils.to_categorical(y_train, num_classes=len(unique_labels))\n",
        "y_test = tf.keras.utils.to_categorical(y_test, num_classes=len(unique_labels))"
      ],
      "metadata": {
        "id": "wfovgximVV2E",
        "colab": {
          "base_uri": "https://localhost:8080/"
        },
        "outputId": "50242084-a115-4c6b-e31e-090fb5807051"
      },
      "execution_count": null,
      "outputs": [
        {
          "output_type": "stream",
          "name": "stdout",
          "text": [
            "{'cha': 0, 'chha': 1, 'ga': 2, 'gha': 3, 'ja': 4, 'jha': 5, 'ka': 6, 'kha': 7, 'kna': 8, 'yna': 9}\n"
          ]
        }
      ]
    },
    {
      "cell_type": "code",
      "source": [
        "import tensorflow as tf\n",
        "num_classes = len(labels)\n",
        "\n",
        "model = tf.keras.Sequential()\n",
        "\n",
        "model.add(tf.keras.layers.Conv2D(32, kernel_size=(3, 3), activation='relu', input_shape=IMAGE_SIZE + [3]))\n",
        "\n",
        "model.add(tf.keras.layers.MaxPooling2D(pool_size=(2, 2)))\n",
        "\n",
        "model.add(tf.keras.layers.Dropout(0.25))\n",
        "\n",
        "model.add(tf.keras.layers.Flatten())\n",
        "\n",
        "model.add(tf.keras.layers.Dense(128, activation='relu'))\n",
        "\n",
        "model.add(tf.keras.layers.Dropout(0.5))\n",
        "\n",
        "model.add(tf.keras.layers.Dense(num_classes, activation='softmax'))\n",
        "\n",
        "model.compile(loss='categorical_crossentropy', optimizer='adam', metrics=['accuracy'])"
      ],
      "metadata": {
        "id": "NMJxjW_5ULiO"
      },
      "execution_count": null,
      "outputs": []
    },
    {
      "cell_type": "code",
      "source": [
        "model.fit(x_train, y_train, batch_size=32, epochs=20)\n",
        "\n",
        "scores = model.evaluate(x_test, y_test)\n",
        "print(\"Accuracy: %.2f%%\" % (scores[1]*100))\n",
        "\n",
        "predictions = model.predict(x_test)"
      ],
      "metadata": {
        "colab": {
          "base_uri": "https://localhost:8080/"
        },
        "id": "Mo8S2QCUcMI6",
        "outputId": "de2e1c8e-6afd-4015-ae08-dfc3c980e1db"
      },
      "execution_count": null,
      "outputs": [
        {
          "output_type": "stream",
          "name": "stdout",
          "text": [
            "Epoch 1/20\n",
            "532/532 [==============================] - 10s 4ms/step - loss: 3.6805 - accuracy: 0.1970\n",
            "Epoch 2/20\n",
            "532/532 [==============================] - 2s 4ms/step - loss: 1.9217 - accuracy: 0.2883\n",
            "Epoch 3/20\n",
            "532/532 [==============================] - 2s 4ms/step - loss: 1.5649 - accuracy: 0.4506\n",
            "Epoch 4/20\n",
            "532/532 [==============================] - 2s 4ms/step - loss: 1.1891 - accuracy: 0.5905\n",
            "Epoch 5/20\n",
            "532/532 [==============================] - 2s 4ms/step - loss: 0.9230 - accuracy: 0.6811\n",
            "Epoch 6/20\n",
            "532/532 [==============================] - 2s 4ms/step - loss: 0.7362 - accuracy: 0.7570\n",
            "Epoch 7/20\n",
            "532/532 [==============================] - 2s 4ms/step - loss: 0.5853 - accuracy: 0.8029\n",
            "Epoch 8/20\n",
            "532/532 [==============================] - 2s 4ms/step - loss: 0.4840 - accuracy: 0.8395\n",
            "Epoch 9/20\n",
            "532/532 [==============================] - 2s 4ms/step - loss: 0.4095 - accuracy: 0.8622\n",
            "Epoch 10/20\n",
            "532/532 [==============================] - 2s 4ms/step - loss: 0.3485 - accuracy: 0.8854\n",
            "Epoch 11/20\n",
            "532/532 [==============================] - 2s 3ms/step - loss: 0.3178 - accuracy: 0.8967\n",
            "Epoch 12/20\n",
            "532/532 [==============================] - 2s 4ms/step - loss: 0.2845 - accuracy: 0.9106\n",
            "Epoch 13/20\n",
            "532/532 [==============================] - 2s 4ms/step - loss: 0.2721 - accuracy: 0.9166\n",
            "Epoch 14/20\n",
            "532/532 [==============================] - 2s 4ms/step - loss: 0.2482 - accuracy: 0.9208\n",
            "Epoch 15/20\n",
            "532/532 [==============================] - 2s 4ms/step - loss: 0.2322 - accuracy: 0.9284\n",
            "Epoch 16/20\n",
            "532/532 [==============================] - 2s 4ms/step - loss: 0.2139 - accuracy: 0.9335\n",
            "Epoch 17/20\n",
            "532/532 [==============================] - 2s 4ms/step - loss: 0.2086 - accuracy: 0.9360\n",
            "Epoch 18/20\n",
            "532/532 [==============================] - 2s 4ms/step - loss: 0.2103 - accuracy: 0.9374\n",
            "Epoch 19/20\n",
            "532/532 [==============================] - 2s 4ms/step - loss: 0.1931 - accuracy: 0.9428\n",
            "Epoch 20/20\n",
            "532/532 [==============================] - 2s 4ms/step - loss: 0.1978 - accuracy: 0.9415\n",
            "94/94 [==============================] - 0s 3ms/step - loss: 0.1080 - accuracy: 0.9700\n",
            "Accuracy: 97.00%\n",
            "94/94 [==============================] - 0s 2ms/step\n"
          ]
        }
      ]
    },
    {
      "cell_type": "code",
      "source": [
        "predictions = model.predict(x_test)\n",
        "\n",
        "predicted_labels = [np.argmax(prediction) for prediction in predictions]\n",
        "\n",
        "print(predicted_labels)"
      ],
      "metadata": {
        "id": "_NpHsx0mcMQH",
        "colab": {
          "base_uri": "https://localhost:8080/"
        },
        "outputId": "ceab7b3e-8b0c-4cd8-d7f1-3661a1d4334b"
      },
      "execution_count": null,
      "outputs": [
        {
          "output_type": "stream",
          "name": "stdout",
          "text": [
            "94/94 [==============================] - 0s 2ms/step\n",
            "[0, 0, 0, 0, 0, 3, 0, 0, 0, 0, 0, 0, 0, 0, 0, 0, 0, 0, 0, 0, 0, 0, 0, 0, 0, 0, 0, 0, 0, 0, 0, 0, 0, 0, 0, 0, 0, 0, 0, 0, 0, 0, 0, 0, 0, 0, 0, 0, 0, 0, 0, 0, 0, 0, 0, 0, 3, 0, 0, 0, 0, 0, 0, 0, 0, 0, 0, 0, 0, 0, 0, 0, 0, 0, 0, 0, 0, 0, 0, 0, 0, 3, 0, 0, 3, 3, 0, 3, 0, 0, 0, 0, 0, 0, 0, 0, 0, 5, 0, 0, 0, 0, 0, 0, 3, 0, 0, 0, 0, 0, 0, 0, 0, 0, 0, 0, 0, 0, 0, 0, 0, 0, 0, 0, 0, 0, 0, 0, 0, 0, 0, 0, 0, 0, 0, 0, 0, 0, 0, 0, 0, 0, 0, 0, 0, 0, 0, 0, 0, 0, 0, 0, 0, 0, 0, 0, 0, 0, 0, 0, 0, 0, 0, 0, 0, 7, 0, 0, 0, 0, 0, 0, 0, 0, 0, 0, 0, 0, 0, 0, 0, 0, 0, 0, 0, 0, 0, 0, 0, 0, 0, 0, 0, 0, 0, 0, 0, 0, 0, 0, 0, 0, 0, 0, 0, 0, 0, 0, 0, 0, 0, 0, 0, 0, 0, 0, 0, 0, 0, 0, 0, 0, 0, 0, 0, 0, 0, 0, 0, 0, 0, 0, 0, 0, 0, 0, 0, 0, 0, 0, 9, 0, 0, 0, 0, 7, 0, 0, 4, 0, 0, 0, 0, 0, 0, 0, 0, 0, 0, 0, 0, 0, 0, 0, 0, 0, 0, 0, 0, 0, 0, 0, 0, 0, 0, 0, 0, 0, 0, 0, 0, 0, 0, 0, 0, 0, 0, 0, 0, 0, 0, 0, 0, 0, 0, 0, 0, 0, 0, 0, 9, 9, 9, 9, 9, 9, 9, 9, 9, 9, 9, 9, 9, 9, 9, 4, 5, 2, 9, 9, 9, 9, 9, 9, 9, 9, 9, 9, 9, 9, 9, 9, 9, 9, 9, 9, 9, 9, 9, 9, 9, 9, 9, 9, 9, 9, 9, 9, 9, 9, 9, 9, 9, 9, 9, 9, 9, 9, 9, 9, 9, 9, 9, 9, 9, 9, 9, 9, 9, 9, 9, 9, 9, 9, 5, 9, 9, 9, 9, 9, 9, 9, 9, 9, 9, 9, 9, 9, 9, 9, 9, 9, 9, 9, 9, 9, 9, 9, 9, 9, 9, 4, 9, 9, 9, 9, 9, 9, 9, 9, 9, 9, 9, 9, 9, 9, 9, 9, 9, 9, 9, 9, 9, 9, 9, 9, 9, 9, 9, 9, 9, 9, 9, 9, 9, 9, 9, 9, 9, 9, 9, 9, 9, 9, 9, 2, 9, 9, 9, 9, 9, 9, 9, 9, 9, 9, 9, 9, 9, 9, 9, 9, 9, 9, 9, 9, 9, 9, 9, 9, 9, 9, 9, 9, 9, 9, 9, 9, 9, 9, 9, 9, 9, 9, 9, 9, 9, 9, 9, 9, 9, 9, 9, 9, 9, 9, 9, 9, 9, 9, 9, 9, 9, 9, 9, 9, 9, 9, 9, 9, 9, 9, 9, 9, 9, 9, 9, 9, 9, 9, 9, 9, 9, 9, 9, 9, 9, 4, 9, 9, 9, 9, 9, 9, 9, 9, 9, 9, 9, 9, 9, 9, 9, 9, 9, 9, 9, 9, 9, 9, 9, 9, 9, 9, 9, 9, 9, 9, 9, 9, 9, 9, 9, 9, 9, 9, 9, 9, 9, 9, 9, 9, 9, 9, 9, 9, 9, 9, 9, 9, 9, 9, 9, 9, 9, 9, 9, 9, 9, 9, 9, 9, 9, 9, 9, 2, 2, 2, 2, 2, 4, 4, 4, 4, 4, 4, 4, 4, 4, 4, 4, 4, 4, 4, 4, 4, 8, 4, 4, 4, 4, 4, 4, 4, 4, 4, 4, 4, 4, 4, 4, 4, 4, 4, 4, 4, 4, 4, 4, 4, 4, 4, 4, 4, 4, 4, 4, 4, 4, 4, 4, 4, 4, 4, 4, 4, 4, 4, 4, 4, 4, 4, 4, 4, 0, 0, 6, 4, 4, 4, 4, 4, 4, 4, 4, 4, 4, 4, 4, 4, 4, 4, 4, 4, 4, 4, 4, 4, 4, 4, 4, 8, 4, 4, 4, 4, 4, 4, 4, 4, 4, 4, 4, 4, 4, 4, 4, 4, 4, 4, 4, 4, 4, 4, 4, 4, 4, 4, 4, 4, 4, 4, 4, 4, 4, 4, 4, 4, 4, 4, 4, 4, 4, 4, 4, 4, 4, 4, 4, 4, 4, 4, 4, 4, 4, 4, 4, 4, 4, 4, 2, 4, 4, 4, 4, 4, 4, 4, 4, 4, 4, 4, 4, 4, 4, 4, 4, 4, 4, 4, 4, 4, 4, 4, 4, 4, 4, 4, 4, 4, 4, 4, 4, 4, 4, 4, 4, 4, 4, 4, 4, 4, 4, 4, 4, 4, 4, 4, 4, 4, 4, 4, 4, 4, 4, 4, 4, 4, 4, 4, 4, 4, 4, 4, 4, 4, 4, 4, 4, 4, 4, 4, 4, 4, 4, 4, 4, 4, 4, 4, 4, 4, 4, 4, 4, 4, 9, 4, 4, 4, 9, 4, 4, 4, 4, 4, 4, 4, 4, 4, 4, 4, 4, 4, 4, 4, 4, 4, 4, 4, 4, 7, 4, 4, 4, 4, 4, 4, 4, 4, 4, 4, 4, 4, 4, 4, 4, 4, 4, 4, 4, 4, 4, 4, 4, 4, 4, 4, 4, 4, 4, 4, 4, 4, 4, 4, 4, 4, 4, 4, 2, 2, 2, 2, 2, 2, 2, 2, 2, 2, 2, 2, 2, 2, 2, 2, 2, 2, 2, 3, 2, 7, 2, 2, 2, 2, 2, 2, 2, 2, 2, 2, 2, 2, 2, 2, 2, 2, 2, 2, 2, 2, 2, 2, 2, 2, 2, 2, 2, 2, 2, 2, 7, 2, 2, 2, 2, 2, 2, 3, 2, 2, 2, 2, 2, 2, 2, 2, 2, 2, 2, 2, 2, 2, 2, 2, 2, 2, 2, 2, 2, 2, 2, 2, 2, 2, 2, 2, 2, 2, 2, 2, 2, 2, 2, 2, 2, 2, 2, 2, 2, 2, 2, 2, 2, 2, 2, 2, 2, 2, 2, 2, 2, 2, 2, 2, 2, 2, 2, 2, 2, 2, 2, 2, 2, 2, 2, 2, 2, 2, 2, 2, 2, 2, 2, 2, 2, 2, 2, 2, 2, 2, 2, 2, 2, 2, 2, 2, 2, 2, 2, 2, 2, 2, 2, 2, 2, 2, 2, 2, 7, 2, 2, 2, 2, 2, 3, 2, 2, 2, 2, 2, 2, 2, 2, 2, 2, 2, 2, 2, 2, 2, 2, 2, 2, 2, 2, 2, 2, 2, 2, 2, 2, 2, 2, 2, 2, 2, 2, 2, 2, 2, 2, 2, 2, 2, 2, 2, 2, 2, 2, 2, 2, 2, 2, 2, 2, 2, 2, 2, 2, 2, 2, 2, 2, 2, 2, 2, 2, 2, 2, 2, 2, 2, 2, 2, 2, 2, 4, 2, 2, 7, 2, 3, 2, 2, 5, 2, 2, 2, 2, 2, 2, 2, 5, 5, 2, 2, 2, 2, 2, 2, 2, 6, 2, 2, 2, 2, 2, 2, 2, 2, 2, 2, 2, 2, 2, 2, 2, 2, 2, 2, 2, 2, 2, 2, 2, 2, 2, 2, 2, 2, 2, 2, 2, 2, 2, 2, 2, 2, 8, 8, 8, 8, 8, 8, 8, 8, 8, 8, 8, 8, 8, 8, 8, 8, 8, 8, 8, 8, 8, 8, 8, 8, 8, 8, 8, 8, 8, 8, 8, 8, 8, 8, 8, 8, 8, 8, 8, 8, 8, 8, 8, 8, 8, 8, 8, 8, 8, 8, 8, 8, 8, 8, 8, 8, 8, 8, 8, 8, 8, 8, 8, 8, 8, 8, 8, 8, 8, 8, 8, 8, 8, 8, 8, 8, 8, 8, 8, 8, 8, 8, 8, 8, 8, 8, 8, 8, 8, 8, 8, 8, 8, 8, 7, 8, 8, 8, 8, 8, 8, 8, 8, 8, 8, 8, 8, 8, 8, 1, 8, 8, 8, 8, 8, 8, 8, 8, 8, 8, 8, 8, 8, 8, 8, 8, 8, 8, 8, 8, 8, 8, 7, 8, 8, 8, 8, 8, 8, 8, 8, 8, 8, 8, 8, 8, 8, 8, 8, 8, 8, 8, 8, 8, 8, 8, 8, 8, 8, 8, 8, 8, 8, 8, 1, 8, 2, 8, 8, 8, 8, 8, 8, 8, 8, 8, 8, 8, 8, 8, 8, 8, 8, 8, 8, 8, 8, 8, 8, 8, 8, 8, 8, 8, 8, 8, 8, 8, 8, 8, 8, 8, 8, 8, 8, 8, 8, 8, 8, 7, 8, 8, 8, 8, 8, 8, 8, 8, 8, 8, 8, 8, 8, 8, 8, 8, 7, 8, 8, 8, 7, 8, 8, 8, 8, 8, 7, 8, 8, 8, 7, 8, 8, 8, 8, 8, 7, 8, 8, 8, 8, 8, 8, 8, 8, 8, 8, 3, 8, 8, 8, 8, 8, 8, 8, 8, 8, 8, 8, 8, 8, 8, 8, 8, 8, 8, 8, 8, 8, 8, 8, 8, 8, 8, 8, 8, 8, 8, 8, 8, 8, 8, 8, 8, 8, 8, 8, 8, 8, 8, 1, 1, 1, 1, 1, 1, 1, 1, 1, 1, 1, 1, 1, 1, 1, 1, 1, 8, 1, 3, 1, 1, 1, 1, 1, 1, 1, 1, 3, 1, 1, 1, 1, 1, 1, 1, 3, 1, 1, 1, 1, 1, 1, 1, 1, 1, 1, 1, 1, 1, 1, 1, 1, 1, 1, 1, 1, 1, 1, 1, 1, 1, 1, 1, 1, 1, 1, 0, 1, 1, 1, 1, 7, 1, 1, 1, 1, 1, 1, 1, 1, 1, 1, 1, 1, 1, 1, 1, 3, 1, 1, 1, 1, 1, 3, 1, 1, 1, 1, 1, 1, 1, 1, 1, 1, 1, 1, 1, 1, 1, 1, 1, 1, 1, 1, 1, 1, 1, 1, 1, 1, 1, 1, 1, 1, 1, 1, 1, 1, 1, 1, 1, 1, 1, 1, 1, 1, 1, 1, 1, 1, 1, 1, 1, 1, 1, 1, 1, 1, 1, 1, 1, 1, 3, 1, 1, 1, 1, 1, 1, 7, 1, 1, 1, 1, 1, 1, 1, 1, 1, 1, 1, 1, 1, 1, 1, 1, 1, 1, 1, 1, 1, 1, 1, 1, 1, 1, 1, 1, 1, 1, 1, 1, 1, 1, 1, 1, 1, 1, 1, 1, 1, 1, 1, 1, 1, 1, 1, 1, 1, 1, 1, 1, 1, 1, 1, 1, 1, 1, 1, 1, 1, 1, 1, 1, 1, 1, 1, 1, 1, 1, 1, 1, 1, 1, 1, 1, 1, 1, 1, 1, 1, 1, 1, 1, 1, 1, 1, 1, 1, 1, 1, 1, 1, 3, 1, 1, 1, 1, 1, 1, 1, 1, 1, 1, 1, 1, 9, 1, 1, 1, 1, 1, 1, 1, 1, 1, 1, 1, 1, 1, 1, 1, 1, 1, 1, 1, 1, 1, 1, 1, 1, 1, 1, 1, 1, 1, 1, 1, 1, 7, 7, 7, 7, 7, 7, 7, 7, 7, 7, 7, 7, 7, 8, 7, 7, 7, 7, 7, 7, 7, 7, 7, 7, 7, 7, 7, 7, 7, 7, 7, 7, 7, 7, 7, 7, 2, 7, 7, 7, 7, 7, 7, 7, 7, 7, 7, 7, 7, 7, 7, 7, 7, 7, 7, 7, 7, 7, 7, 7, 7, 7, 7, 7, 7, 7, 7, 7, 7, 7, 7, 7, 7, 7, 7, 7, 7, 7, 7, 7, 7, 7, 7, 7, 7, 7, 7, 7, 7, 7, 7, 7, 7, 7, 7, 7, 7, 7, 7, 7, 7, 7, 7, 7, 7, 7, 7, 7, 7, 7, 7, 7, 7, 7, 7, 7, 7, 7, 7, 7, 7, 7, 7, 7, 7, 7, 7, 7, 7, 7, 7, 7, 7, 7, 7, 7, 7, 7, 7, 7, 7, 7, 7, 7, 7, 7, 7, 7, 7, 7, 7, 7, 7, 7, 7, 7, 7, 7, 7, 7, 7, 7, 7, 7, 7, 7, 7, 7, 7, 7, 7, 7, 7, 7, 7, 7, 7, 7, 7, 7, 7, 7, 7, 7, 7, 7, 7, 7, 7, 7, 7, 7, 7, 7, 7, 7, 7, 7, 7, 7, 7, 7, 7, 7, 7, 7, 7, 7, 7, 7, 7, 7, 7, 7, 7, 7, 7, 7, 7, 7, 7, 7, 7, 7, 7, 7, 7, 7, 7, 7, 7, 7, 7, 7, 7, 7, 7, 7, 7, 7, 7, 7, 7, 7, 7, 7, 7, 7, 7, 7, 7, 7, 7, 7, 7, 7, 7, 7, 7, 7, 7, 7, 7, 7, 7, 7, 7, 7, 7, 7, 7, 7, 7, 7, 7, 7, 7, 7, 7, 7, 7, 7, 7, 9, 7, 7, 7, 7, 7, 7, 7, 7, 7, 7, 7, 7, 7, 7, 7, 7, 3, 7, 3, 3, 3, 3, 0, 3, 3, 9, 3, 3, 3, 3, 3, 3, 3, 3, 3, 3, 3, 3, 2, 3, 3, 3, 3, 3, 3, 3, 3, 3, 3, 3, 3, 3, 3, 3, 3, 3, 3, 3, 1, 3, 3, 3, 3, 3, 3, 3, 3, 3, 3, 3, 3, 3, 3, 3, 3, 3, 3, 3, 3, 3, 3, 3, 3, 3, 3, 3, 3, 3, 3, 3, 3, 3, 3, 3, 3, 3, 3, 3, 3, 3, 3, 3, 3, 3, 3, 3, 3, 3, 3, 3, 3, 3, 3, 3, 3, 3, 3, 3, 3, 3, 3, 3, 3, 3, 3, 3, 3, 3, 3, 3, 3, 3, 3, 3, 3, 3, 3, 3, 3, 3, 3, 3, 3, 3, 3, 3, 3, 3, 3, 3, 3, 3, 3, 3, 3, 3, 3, 3, 3, 3, 3, 3, 3, 1, 3, 3, 3, 3, 3, 1, 3, 6, 3, 3, 3, 3, 3, 3, 3, 3, 3, 3, 3, 3, 3, 3, 3, 3, 3, 3, 3, 3, 3, 3, 3, 3, 3, 3, 3, 3, 3, 3, 3, 3, 3, 3, 3, 3, 3, 3, 3, 3, 3, 3, 3, 3, 3, 3, 3, 3, 3, 3, 3, 3, 3, 3, 3, 3, 3, 3, 3, 3, 3, 3, 3, 3, 3, 3, 3, 3, 3, 3, 3, 3, 3, 3, 3, 3, 3, 3, 3, 3, 3, 3, 3, 3, 3, 3, 3, 3, 3, 3, 3, 3, 3, 3, 3, 3, 3, 3, 3, 3, 3, 3, 3, 3, 3, 3, 3, 3, 3, 0, 3, 3, 3, 3, 3, 3, 3, 3, 3, 3, 3, 3, 3, 3, 3, 3, 3, 3, 3, 3, 3, 3, 3, 3, 3, 3, 3, 3, 3, 3, 3, 3, 3, 3, 6, 6, 6, 6, 6, 6, 6, 6, 6, 6, 6, 6, 6, 6, 6, 6, 6, 5, 6, 6, 6, 6, 6, 6, 6, 6, 6, 6, 6, 6, 6, 6, 6, 6, 6, 6, 6, 6, 6, 6, 6, 6, 6, 6, 6, 6, 6, 6, 6, 6, 6, 6, 6, 6, 6, 6, 6, 6, 6, 6, 6, 6, 6, 6, 6, 6, 6, 6, 6, 6, 6, 6, 6, 6, 6, 6, 6, 6, 6, 6, 6, 6, 6, 6, 6, 6, 6, 5, 6, 6, 6, 6, 6, 6, 6, 6, 6, 6, 6, 6, 6, 6, 6, 6, 6, 6, 6, 6, 6, 6, 6, 6, 6, 6, 6, 6, 6, 6, 6, 6, 6, 6, 6, 6, 6, 6, 6, 6, 6, 6, 6, 6, 6, 6, 6, 6, 6, 6, 6, 6, 6, 6, 6, 6, 6, 6, 6, 6, 6, 6, 6, 6, 6, 6, 6, 6, 6, 6, 6, 6, 6, 6, 6, 6, 6, 6, 6, 6, 6, 6, 6, 6, 6, 6, 6, 6, 7, 6, 6, 6, 6, 6, 6, 6, 6, 6, 6, 6, 6, 6, 6, 6, 6, 6, 6, 6, 6, 6, 6, 6, 6, 6, 6, 6, 6, 6, 6, 6, 6, 6, 6, 6, 5, 6, 6, 6, 6, 6, 6, 6, 6, 6, 6, 6, 6, 6, 6, 6, 6, 6, 6, 6, 6, 6, 6, 6, 6, 6, 6, 6, 6, 6, 6, 6, 6, 6, 6, 6, 6, 6, 6, 6, 6, 1, 6, 6, 6, 6, 6, 6, 6, 6, 6, 6, 6, 6, 6, 6, 6, 6, 6, 6, 6, 6, 6, 6, 6, 6, 6, 6, 6, 6, 6, 6, 6, 6, 6, 6, 6, 6, 6, 6, 6, 6, 6, 6, 6, 6, 6, 6, 5, 5, 5, 5, 5, 5, 5, 5, 5, 7, 5, 5, 5, 5, 5, 5, 5, 5, 5, 5, 5, 5, 5, 5, 5, 5, 5, 5, 5, 5, 5, 5, 5, 5, 5, 5, 5, 5, 5, 5, 5, 5, 5, 5, 5, 5, 5, 5, 5, 5, 5, 5, 5, 5, 5, 5, 5, 5, 5, 5, 5, 5, 5, 5, 5, 5, 5, 5, 5, 5, 5, 5, 5, 5, 5, 5, 5, 3, 5, 5, 5, 5, 5, 5, 5, 5, 5, 5, 5, 5, 9, 5, 5, 5, 5, 5, 5, 5, 5, 5, 5, 5, 5, 5, 5, 5, 5, 5, 5, 5, 5, 5, 5, 5, 5, 5, 5, 5, 5, 5, 5, 5, 5, 5, 5, 5, 5, 5, 5, 5, 5, 5, 5, 5, 5, 5, 5, 5, 5, 5, 5, 5, 5, 5, 5, 5, 5, 5, 5, 5, 5, 5, 5, 5, 5, 5, 5, 5, 5, 5, 5, 5, 5, 5, 5, 5, 5, 5, 5, 5, 5, 5, 5, 5, 5, 5, 5, 5, 5, 5, 5, 5, 5, 5, 5, 5, 5, 5, 5, 5, 5, 5, 5, 5, 5, 5, 5, 5, 5, 5, 5, 5, 5, 5, 5, 5, 5, 5, 5, 5, 5, 5, 5, 5, 5, 5, 5, 5, 5, 5, 5, 5, 5, 5, 5, 5, 5, 5, 5, 5, 5, 5, 5, 5, 5, 5, 5, 5, 5, 5, 5, 5, 5, 5, 5, 5, 5, 5, 5, 5, 5, 5, 5, 5, 5, 5, 5, 5, 5, 5, 5, 5, 5, 5, 5, 5, 5, 5, 5, 5, 5, 5, 5, 5, 5, 5, 5, 5, 5, 5, 5, 5, 5, 5, 5, 5, 5, 5, 5, 5, 5, 5, 5, 5, 5, 5, 5, 5, 5, 5]\n"
          ]
        }
      ]
    },
    {
      "cell_type": "code",
      "source": [
        "label_map = { 0:'च', 1:'छ',2:'ग', 3:'ध', 4:'ज', 5:'झ', 6:'क', 7:'ख', 8:'ङ', 9:'ञ'}\n",
        "\n",
        "predicted_labels = [label_map[label] for label in predicted_labels]\n",
        "\n",
        "print(predicted_labels)"
      ],
      "metadata": {
        "id": "9HgIqhu7cMTg",
        "colab": {
          "base_uri": "https://localhost:8080/"
        },
        "outputId": "5da8ced6-3e4f-4fa6-e959-a14dbd5d69a1"
      },
      "execution_count": null,
      "outputs": [
        {
          "output_type": "stream",
          "name": "stdout",
          "text": [
            "['च', 'च', 'च', 'च', 'च', 'ध', 'च', 'च', 'च', 'च', 'च', 'च', 'च', 'च', 'च', 'च', 'च', 'च', 'च', 'च', 'च', 'च', 'च', 'च', 'च', 'च', 'च', 'च', 'च', 'च', 'च', 'च', 'च', 'च', 'च', 'च', 'च', 'च', 'च', 'च', 'च', 'च', 'च', 'च', 'च', 'च', 'च', 'च', 'च', 'च', 'च', 'च', 'च', 'च', 'च', 'च', 'ध', 'च', 'च', 'च', 'च', 'च', 'च', 'च', 'च', 'च', 'च', 'च', 'च', 'च', 'च', 'च', 'च', 'च', 'च', 'च', 'च', 'च', 'च', 'च', 'च', 'ध', 'च', 'च', 'ध', 'ध', 'च', 'ध', 'च', 'च', 'च', 'च', 'च', 'च', 'च', 'च', 'च', 'झ', 'च', 'च', 'च', 'च', 'च', 'च', 'ध', 'च', 'च', 'च', 'च', 'च', 'च', 'च', 'च', 'च', 'च', 'च', 'च', 'च', 'च', 'च', 'च', 'च', 'च', 'च', 'च', 'च', 'च', 'च', 'च', 'च', 'च', 'च', 'च', 'च', 'च', 'च', 'च', 'च', 'च', 'च', 'च', 'च', 'च', 'च', 'च', 'च', 'च', 'च', 'च', 'च', 'च', 'च', 'च', 'च', 'च', 'च', 'च', 'च', 'च', 'च', 'च', 'च', 'च', 'च', 'च', 'ख', 'च', 'च', 'च', 'च', 'च', 'च', 'च', 'च', 'च', 'च', 'च', 'च', 'च', 'च', 'च', 'च', 'च', 'च', 'च', 'च', 'च', 'च', 'च', 'च', 'च', 'च', 'च', 'च', 'च', 'च', 'च', 'च', 'च', 'च', 'च', 'च', 'च', 'च', 'च', 'च', 'च', 'च', 'च', 'च', 'च', 'च', 'च', 'च', 'च', 'च', 'च', 'च', 'च', 'च', 'च', 'च', 'च', 'च', 'च', 'च', 'च', 'च', 'च', 'च', 'च', 'च', 'च', 'च', 'च', 'च', 'च', 'च', 'च', 'च', 'ञ', 'च', 'च', 'च', 'च', 'ख', 'च', 'च', 'ज', 'च', 'च', 'च', 'च', 'च', 'च', 'च', 'च', 'च', 'च', 'च', 'च', 'च', 'च', 'च', 'च', 'च', 'च', 'च', 'च', 'च', 'च', 'च', 'च', 'च', 'च', 'च', 'च', 'च', 'च', 'च', 'च', 'च', 'च', 'च', 'च', 'च', 'च', 'च', 'च', 'च', 'च', 'च', 'च', 'च', 'च', 'च', 'च', 'च', 'च', 'च', 'ञ', 'ञ', 'ञ', 'ञ', 'ञ', 'ञ', 'ञ', 'ञ', 'ञ', 'ञ', 'ञ', 'ञ', 'ञ', 'ञ', 'ञ', 'ज', 'झ', 'ग', 'ञ', 'ञ', 'ञ', 'ञ', 'ञ', 'ञ', 'ञ', 'ञ', 'ञ', 'ञ', 'ञ', 'ञ', 'ञ', 'ञ', 'ञ', 'ञ', 'ञ', 'ञ', 'ञ', 'ञ', 'ञ', 'ञ', 'ञ', 'ञ', 'ञ', 'ञ', 'ञ', 'ञ', 'ञ', 'ञ', 'ञ', 'ञ', 'ञ', 'ञ', 'ञ', 'ञ', 'ञ', 'ञ', 'ञ', 'ञ', 'ञ', 'ञ', 'ञ', 'ञ', 'ञ', 'ञ', 'ञ', 'ञ', 'ञ', 'ञ', 'ञ', 'ञ', 'ञ', 'ञ', 'ञ', 'ञ', 'झ', 'ञ', 'ञ', 'ञ', 'ञ', 'ञ', 'ञ', 'ञ', 'ञ', 'ञ', 'ञ', 'ञ', 'ञ', 'ञ', 'ञ', 'ञ', 'ञ', 'ञ', 'ञ', 'ञ', 'ञ', 'ञ', 'ञ', 'ञ', 'ञ', 'ञ', 'ञ', 'ज', 'ञ', 'ञ', 'ञ', 'ञ', 'ञ', 'ञ', 'ञ', 'ञ', 'ञ', 'ञ', 'ञ', 'ञ', 'ञ', 'ञ', 'ञ', 'ञ', 'ञ', 'ञ', 'ञ', 'ञ', 'ञ', 'ञ', 'ञ', 'ञ', 'ञ', 'ञ', 'ञ', 'ञ', 'ञ', 'ञ', 'ञ', 'ञ', 'ञ', 'ञ', 'ञ', 'ञ', 'ञ', 'ञ', 'ञ', 'ञ', 'ञ', 'ञ', 'ञ', 'ग', 'ञ', 'ञ', 'ञ', 'ञ', 'ञ', 'ञ', 'ञ', 'ञ', 'ञ', 'ञ', 'ञ', 'ञ', 'ञ', 'ञ', 'ञ', 'ञ', 'ञ', 'ञ', 'ञ', 'ञ', 'ञ', 'ञ', 'ञ', 'ञ', 'ञ', 'ञ', 'ञ', 'ञ', 'ञ', 'ञ', 'ञ', 'ञ', 'ञ', 'ञ', 'ञ', 'ञ', 'ञ', 'ञ', 'ञ', 'ञ', 'ञ', 'ञ', 'ञ', 'ञ', 'ञ', 'ञ', 'ञ', 'ञ', 'ञ', 'ञ', 'ञ', 'ञ', 'ञ', 'ञ', 'ञ', 'ञ', 'ञ', 'ञ', 'ञ', 'ञ', 'ञ', 'ञ', 'ञ', 'ञ', 'ञ', 'ञ', 'ञ', 'ञ', 'ञ', 'ञ', 'ञ', 'ञ', 'ञ', 'ञ', 'ञ', 'ञ', 'ञ', 'ञ', 'ञ', 'ञ', 'ञ', 'ज', 'ञ', 'ञ', 'ञ', 'ञ', 'ञ', 'ञ', 'ञ', 'ञ', 'ञ', 'ञ', 'ञ', 'ञ', 'ञ', 'ञ', 'ञ', 'ञ', 'ञ', 'ञ', 'ञ', 'ञ', 'ञ', 'ञ', 'ञ', 'ञ', 'ञ', 'ञ', 'ञ', 'ञ', 'ञ', 'ञ', 'ञ', 'ञ', 'ञ', 'ञ', 'ञ', 'ञ', 'ञ', 'ञ', 'ञ', 'ञ', 'ञ', 'ञ', 'ञ', 'ञ', 'ञ', 'ञ', 'ञ', 'ञ', 'ञ', 'ञ', 'ञ', 'ञ', 'ञ', 'ञ', 'ञ', 'ञ', 'ञ', 'ञ', 'ञ', 'ञ', 'ञ', 'ञ', 'ञ', 'ञ', 'ञ', 'ञ', 'ञ', 'ग', 'ग', 'ग', 'ग', 'ग', 'ज', 'ज', 'ज', 'ज', 'ज', 'ज', 'ज', 'ज', 'ज', 'ज', 'ज', 'ज', 'ज', 'ज', 'ज', 'ज', 'ङ', 'ज', 'ज', 'ज', 'ज', 'ज', 'ज', 'ज', 'ज', 'ज', 'ज', 'ज', 'ज', 'ज', 'ज', 'ज', 'ज', 'ज', 'ज', 'ज', 'ज', 'ज', 'ज', 'ज', 'ज', 'ज', 'ज', 'ज', 'ज', 'ज', 'ज', 'ज', 'ज', 'ज', 'ज', 'ज', 'ज', 'ज', 'ज', 'ज', 'ज', 'ज', 'ज', 'ज', 'ज', 'ज', 'ज', 'ज', 'च', 'च', 'क', 'ज', 'ज', 'ज', 'ज', 'ज', 'ज', 'ज', 'ज', 'ज', 'ज', 'ज', 'ज', 'ज', 'ज', 'ज', 'ज', 'ज', 'ज', 'ज', 'ज', 'ज', 'ज', 'ज', 'ज', 'ङ', 'ज', 'ज', 'ज', 'ज', 'ज', 'ज', 'ज', 'ज', 'ज', 'ज', 'ज', 'ज', 'ज', 'ज', 'ज', 'ज', 'ज', 'ज', 'ज', 'ज', 'ज', 'ज', 'ज', 'ज', 'ज', 'ज', 'ज', 'ज', 'ज', 'ज', 'ज', 'ज', 'ज', 'ज', 'ज', 'ज', 'ज', 'ज', 'ज', 'ज', 'ज', 'ज', 'ज', 'ज', 'ज', 'ज', 'ज', 'ज', 'ज', 'ज', 'ज', 'ज', 'ज', 'ज', 'ज', 'ज', 'ज', 'ज', 'ग', 'ज', 'ज', 'ज', 'ज', 'ज', 'ज', 'ज', 'ज', 'ज', 'ज', 'ज', 'ज', 'ज', 'ज', 'ज', 'ज', 'ज', 'ज', 'ज', 'ज', 'ज', 'ज', 'ज', 'ज', 'ज', 'ज', 'ज', 'ज', 'ज', 'ज', 'ज', 'ज', 'ज', 'ज', 'ज', 'ज', 'ज', 'ज', 'ज', 'ज', 'ज', 'ज', 'ज', 'ज', 'ज', 'ज', 'ज', 'ज', 'ज', 'ज', 'ज', 'ज', 'ज', 'ज', 'ज', 'ज', 'ज', 'ज', 'ज', 'ज', 'ज', 'ज', 'ज', 'ज', 'ज', 'ज', 'ज', 'ज', 'ज', 'ज', 'ज', 'ज', 'ज', 'ज', 'ज', 'ज', 'ज', 'ज', 'ज', 'ज', 'ज', 'ज', 'ज', 'ज', 'ज', 'ञ', 'ज', 'ज', 'ज', 'ञ', 'ज', 'ज', 'ज', 'ज', 'ज', 'ज', 'ज', 'ज', 'ज', 'ज', 'ज', 'ज', 'ज', 'ज', 'ज', 'ज', 'ज', 'ज', 'ज', 'ज', 'ख', 'ज', 'ज', 'ज', 'ज', 'ज', 'ज', 'ज', 'ज', 'ज', 'ज', 'ज', 'ज', 'ज', 'ज', 'ज', 'ज', 'ज', 'ज', 'ज', 'ज', 'ज', 'ज', 'ज', 'ज', 'ज', 'ज', 'ज', 'ज', 'ज', 'ज', 'ज', 'ज', 'ज', 'ज', 'ज', 'ज', 'ज', 'ज', 'ग', 'ग', 'ग', 'ग', 'ग', 'ग', 'ग', 'ग', 'ग', 'ग', 'ग', 'ग', 'ग', 'ग', 'ग', 'ग', 'ग', 'ग', 'ग', 'ध', 'ग', 'ख', 'ग', 'ग', 'ग', 'ग', 'ग', 'ग', 'ग', 'ग', 'ग', 'ग', 'ग', 'ग', 'ग', 'ग', 'ग', 'ग', 'ग', 'ग', 'ग', 'ग', 'ग', 'ग', 'ग', 'ग', 'ग', 'ग', 'ग', 'ग', 'ग', 'ग', 'ख', 'ग', 'ग', 'ग', 'ग', 'ग', 'ग', 'ध', 'ग', 'ग', 'ग', 'ग', 'ग', 'ग', 'ग', 'ग', 'ग', 'ग', 'ग', 'ग', 'ग', 'ग', 'ग', 'ग', 'ग', 'ग', 'ग', 'ग', 'ग', 'ग', 'ग', 'ग', 'ग', 'ग', 'ग', 'ग', 'ग', 'ग', 'ग', 'ग', 'ग', 'ग', 'ग', 'ग', 'ग', 'ग', 'ग', 'ग', 'ग', 'ग', 'ग', 'ग', 'ग', 'ग', 'ग', 'ग', 'ग', 'ग', 'ग', 'ग', 'ग', 'ग', 'ग', 'ग', 'ग', 'ग', 'ग', 'ग', 'ग', 'ग', 'ग', 'ग', 'ग', 'ग', 'ग', 'ग', 'ग', 'ग', 'ग', 'ग', 'ग', 'ग', 'ग', 'ग', 'ग', 'ग', 'ग', 'ग', 'ग', 'ग', 'ग', 'ग', 'ग', 'ग', 'ग', 'ग', 'ग', 'ग', 'ग', 'ग', 'ग', 'ग', 'ग', 'ग', 'ग', 'ग', 'ग', 'ग', 'ख', 'ग', 'ग', 'ग', 'ग', 'ग', 'ध', 'ग', 'ग', 'ग', 'ग', 'ग', 'ग', 'ग', 'ग', 'ग', 'ग', 'ग', 'ग', 'ग', 'ग', 'ग', 'ग', 'ग', 'ग', 'ग', 'ग', 'ग', 'ग', 'ग', 'ग', 'ग', 'ग', 'ग', 'ग', 'ग', 'ग', 'ग', 'ग', 'ग', 'ग', 'ग', 'ग', 'ग', 'ग', 'ग', 'ग', 'ग', 'ग', 'ग', 'ग', 'ग', 'ग', 'ग', 'ग', 'ग', 'ग', 'ग', 'ग', 'ग', 'ग', 'ग', 'ग', 'ग', 'ग', 'ग', 'ग', 'ग', 'ग', 'ग', 'ग', 'ग', 'ग', 'ग', 'ग', 'ग', 'ग', 'ग', 'ज', 'ग', 'ग', 'ख', 'ग', 'ध', 'ग', 'ग', 'झ', 'ग', 'ग', 'ग', 'ग', 'ग', 'ग', 'ग', 'झ', 'झ', 'ग', 'ग', 'ग', 'ग', 'ग', 'ग', 'ग', 'क', 'ग', 'ग', 'ग', 'ग', 'ग', 'ग', 'ग', 'ग', 'ग', 'ग', 'ग', 'ग', 'ग', 'ग', 'ग', 'ग', 'ग', 'ग', 'ग', 'ग', 'ग', 'ग', 'ग', 'ग', 'ग', 'ग', 'ग', 'ग', 'ग', 'ग', 'ग', 'ग', 'ग', 'ग', 'ग', 'ग', 'ङ', 'ङ', 'ङ', 'ङ', 'ङ', 'ङ', 'ङ', 'ङ', 'ङ', 'ङ', 'ङ', 'ङ', 'ङ', 'ङ', 'ङ', 'ङ', 'ङ', 'ङ', 'ङ', 'ङ', 'ङ', 'ङ', 'ङ', 'ङ', 'ङ', 'ङ', 'ङ', 'ङ', 'ङ', 'ङ', 'ङ', 'ङ', 'ङ', 'ङ', 'ङ', 'ङ', 'ङ', 'ङ', 'ङ', 'ङ', 'ङ', 'ङ', 'ङ', 'ङ', 'ङ', 'ङ', 'ङ', 'ङ', 'ङ', 'ङ', 'ङ', 'ङ', 'ङ', 'ङ', 'ङ', 'ङ', 'ङ', 'ङ', 'ङ', 'ङ', 'ङ', 'ङ', 'ङ', 'ङ', 'ङ', 'ङ', 'ङ', 'ङ', 'ङ', 'ङ', 'ङ', 'ङ', 'ङ', 'ङ', 'ङ', 'ङ', 'ङ', 'ङ', 'ङ', 'ङ', 'ङ', 'ङ', 'ङ', 'ङ', 'ङ', 'ङ', 'ङ', 'ङ', 'ङ', 'ङ', 'ङ', 'ङ', 'ङ', 'ङ', 'ख', 'ङ', 'ङ', 'ङ', 'ङ', 'ङ', 'ङ', 'ङ', 'ङ', 'ङ', 'ङ', 'ङ', 'ङ', 'ङ', 'ङ', 'छ', 'ङ', 'ङ', 'ङ', 'ङ', 'ङ', 'ङ', 'ङ', 'ङ', 'ङ', 'ङ', 'ङ', 'ङ', 'ङ', 'ङ', 'ङ', 'ङ', 'ङ', 'ङ', 'ङ', 'ङ', 'ङ', 'ङ', 'ख', 'ङ', 'ङ', 'ङ', 'ङ', 'ङ', 'ङ', 'ङ', 'ङ', 'ङ', 'ङ', 'ङ', 'ङ', 'ङ', 'ङ', 'ङ', 'ङ', 'ङ', 'ङ', 'ङ', 'ङ', 'ङ', 'ङ', 'ङ', 'ङ', 'ङ', 'ङ', 'ङ', 'ङ', 'ङ', 'ङ', 'ङ', 'छ', 'ङ', 'ग', 'ङ', 'ङ', 'ङ', 'ङ', 'ङ', 'ङ', 'ङ', 'ङ', 'ङ', 'ङ', 'ङ', 'ङ', 'ङ', 'ङ', 'ङ', 'ङ', 'ङ', 'ङ', 'ङ', 'ङ', 'ङ', 'ङ', 'ङ', 'ङ', 'ङ', 'ङ', 'ङ', 'ङ', 'ङ', 'ङ', 'ङ', 'ङ', 'ङ', 'ङ', 'ङ', 'ङ', 'ङ', 'ङ', 'ङ', 'ङ', 'ङ', 'ङ', 'ख', 'ङ', 'ङ', 'ङ', 'ङ', 'ङ', 'ङ', 'ङ', 'ङ', 'ङ', 'ङ', 'ङ', 'ङ', 'ङ', 'ङ', 'ङ', 'ङ', 'ख', 'ङ', 'ङ', 'ङ', 'ख', 'ङ', 'ङ', 'ङ', 'ङ', 'ङ', 'ख', 'ङ', 'ङ', 'ङ', 'ख', 'ङ', 'ङ', 'ङ', 'ङ', 'ङ', 'ख', 'ङ', 'ङ', 'ङ', 'ङ', 'ङ', 'ङ', 'ङ', 'ङ', 'ङ', 'ङ', 'ध', 'ङ', 'ङ', 'ङ', 'ङ', 'ङ', 'ङ', 'ङ', 'ङ', 'ङ', 'ङ', 'ङ', 'ङ', 'ङ', 'ङ', 'ङ', 'ङ', 'ङ', 'ङ', 'ङ', 'ङ', 'ङ', 'ङ', 'ङ', 'ङ', 'ङ', 'ङ', 'ङ', 'ङ', 'ङ', 'ङ', 'ङ', 'ङ', 'ङ', 'ङ', 'ङ', 'ङ', 'ङ', 'ङ', 'ङ', 'ङ', 'ङ', 'ङ', 'छ', 'छ', 'छ', 'छ', 'छ', 'छ', 'छ', 'छ', 'छ', 'छ', 'छ', 'छ', 'छ', 'छ', 'छ', 'छ', 'छ', 'ङ', 'छ', 'ध', 'छ', 'छ', 'छ', 'छ', 'छ', 'छ', 'छ', 'छ', 'ध', 'छ', 'छ', 'छ', 'छ', 'छ', 'छ', 'छ', 'ध', 'छ', 'छ', 'छ', 'छ', 'छ', 'छ', 'छ', 'छ', 'छ', 'छ', 'छ', 'छ', 'छ', 'छ', 'छ', 'छ', 'छ', 'छ', 'छ', 'छ', 'छ', 'छ', 'छ', 'छ', 'छ', 'छ', 'छ', 'छ', 'छ', 'छ', 'च', 'छ', 'छ', 'छ', 'छ', 'ख', 'छ', 'छ', 'छ', 'छ', 'छ', 'छ', 'छ', 'छ', 'छ', 'छ', 'छ', 'छ', 'छ', 'छ', 'छ', 'ध', 'छ', 'छ', 'छ', 'छ', 'छ', 'ध', 'छ', 'छ', 'छ', 'छ', 'छ', 'छ', 'छ', 'छ', 'छ', 'छ', 'छ', 'छ', 'छ', 'छ', 'छ', 'छ', 'छ', 'छ', 'छ', 'छ', 'छ', 'छ', 'छ', 'छ', 'छ', 'छ', 'छ', 'छ', 'छ', 'छ', 'छ', 'छ', 'छ', 'छ', 'छ', 'छ', 'छ', 'छ', 'छ', 'छ', 'छ', 'छ', 'छ', 'छ', 'छ', 'छ', 'छ', 'छ', 'छ', 'छ', 'छ', 'छ', 'छ', 'छ', 'छ', 'छ', 'छ', 'छ', 'ध', 'छ', 'छ', 'छ', 'छ', 'छ', 'छ', 'ख', 'छ', 'छ', 'छ', 'छ', 'छ', 'छ', 'छ', 'छ', 'छ', 'छ', 'छ', 'छ', 'छ', 'छ', 'छ', 'छ', 'छ', 'छ', 'छ', 'छ', 'छ', 'छ', 'छ', 'छ', 'छ', 'छ', 'छ', 'छ', 'छ', 'छ', 'छ', 'छ', 'छ', 'छ', 'छ', 'छ', 'छ', 'छ', 'छ', 'छ', 'छ', 'छ', 'छ', 'छ', 'छ', 'छ', 'छ', 'छ', 'छ', 'छ', 'छ', 'छ', 'छ', 'छ', 'छ', 'छ', 'छ', 'छ', 'छ', 'छ', 'छ', 'छ', 'छ', 'छ', 'छ', 'छ', 'छ', 'छ', 'छ', 'छ', 'छ', 'छ', 'छ', 'छ', 'छ', 'छ', 'छ', 'छ', 'छ', 'छ', 'छ', 'छ', 'छ', 'छ', 'छ', 'छ', 'छ', 'छ', 'छ', 'छ', 'छ', 'छ', 'छ', 'ध', 'छ', 'छ', 'छ', 'छ', 'छ', 'छ', 'छ', 'छ', 'छ', 'छ', 'छ', 'छ', 'ञ', 'छ', 'छ', 'छ', 'छ', 'छ', 'छ', 'छ', 'छ', 'छ', 'छ', 'छ', 'छ', 'छ', 'छ', 'छ', 'छ', 'छ', 'छ', 'छ', 'छ', 'छ', 'छ', 'छ', 'छ', 'छ', 'छ', 'छ', 'छ', 'छ', 'छ', 'छ', 'छ', 'ख', 'ख', 'ख', 'ख', 'ख', 'ख', 'ख', 'ख', 'ख', 'ख', 'ख', 'ख', 'ख', 'ङ', 'ख', 'ख', 'ख', 'ख', 'ख', 'ख', 'ख', 'ख', 'ख', 'ख', 'ख', 'ख', 'ख', 'ख', 'ख', 'ख', 'ख', 'ख', 'ख', 'ख', 'ख', 'ख', 'ग', 'ख', 'ख', 'ख', 'ख', 'ख', 'ख', 'ख', 'ख', 'ख', 'ख', 'ख', 'ख', 'ख', 'ख', 'ख', 'ख', 'ख', 'ख', 'ख', 'ख', 'ख', 'ख', 'ख', 'ख', 'ख', 'ख', 'ख', 'ख', 'ख', 'ख', 'ख', 'ख', 'ख', 'ख', 'ख', 'ख', 'ख', 'ख', 'ख', 'ख', 'ख', 'ख', 'ख', 'ख', 'ख', 'ख', 'ख', 'ख', 'ख', 'ख', 'ख', 'ख', 'ख', 'ख', 'ख', 'ख', 'ख', 'ख', 'ख', 'ख', 'ख', 'ख', 'ख', 'ख', 'ख', 'ख', 'ख', 'ख', 'ख', 'ख', 'ख', 'ख', 'ख', 'ख', 'ख', 'ख', 'ख', 'ख', 'ख', 'ख', 'ख', 'ख', 'ख', 'ख', 'ख', 'ख', 'ख', 'ख', 'ख', 'ख', 'ख', 'ख', 'ख', 'ख', 'ख', 'ख', 'ख', 'ख', 'ख', 'ख', 'ख', 'ख', 'ख', 'ख', 'ख', 'ख', 'ख', 'ख', 'ख', 'ख', 'ख', 'ख', 'ख', 'ख', 'ख', 'ख', 'ख', 'ख', 'ख', 'ख', 'ख', 'ख', 'ख', 'ख', 'ख', 'ख', 'ख', 'ख', 'ख', 'ख', 'ख', 'ख', 'ख', 'ख', 'ख', 'ख', 'ख', 'ख', 'ख', 'ख', 'ख', 'ख', 'ख', 'ख', 'ख', 'ख', 'ख', 'ख', 'ख', 'ख', 'ख', 'ख', 'ख', 'ख', 'ख', 'ख', 'ख', 'ख', 'ख', 'ख', 'ख', 'ख', 'ख', 'ख', 'ख', 'ख', 'ख', 'ख', 'ख', 'ख', 'ख', 'ख', 'ख', 'ख', 'ख', 'ख', 'ख', 'ख', 'ख', 'ख', 'ख', 'ख', 'ख', 'ख', 'ख', 'ख', 'ख', 'ख', 'ख', 'ख', 'ख', 'ख', 'ख', 'ख', 'ख', 'ख', 'ख', 'ख', 'ख', 'ख', 'ख', 'ख', 'ख', 'ख', 'ख', 'ख', 'ख', 'ख', 'ख', 'ख', 'ख', 'ख', 'ख', 'ख', 'ख', 'ख', 'ख', 'ख', 'ख', 'ख', 'ख', 'ख', 'ख', 'ख', 'ख', 'ख', 'ख', 'ख', 'ख', 'ख', 'ख', 'ख', 'ख', 'ख', 'ख', 'ख', 'ख', 'ख', 'ख', 'ख', 'ख', 'ख', 'ख', 'ख', 'ख', 'ख', 'ञ', 'ख', 'ख', 'ख', 'ख', 'ख', 'ख', 'ख', 'ख', 'ख', 'ख', 'ख', 'ख', 'ख', 'ख', 'ख', 'ख', 'ध', 'ख', 'ध', 'ध', 'ध', 'ध', 'च', 'ध', 'ध', 'ञ', 'ध', 'ध', 'ध', 'ध', 'ध', 'ध', 'ध', 'ध', 'ध', 'ध', 'ध', 'ध', 'ग', 'ध', 'ध', 'ध', 'ध', 'ध', 'ध', 'ध', 'ध', 'ध', 'ध', 'ध', 'ध', 'ध', 'ध', 'ध', 'ध', 'ध', 'ध', 'ध', 'छ', 'ध', 'ध', 'ध', 'ध', 'ध', 'ध', 'ध', 'ध', 'ध', 'ध', 'ध', 'ध', 'ध', 'ध', 'ध', 'ध', 'ध', 'ध', 'ध', 'ध', 'ध', 'ध', 'ध', 'ध', 'ध', 'ध', 'ध', 'ध', 'ध', 'ध', 'ध', 'ध', 'ध', 'ध', 'ध', 'ध', 'ध', 'ध', 'ध', 'ध', 'ध', 'ध', 'ध', 'ध', 'ध', 'ध', 'ध', 'ध', 'ध', 'ध', 'ध', 'ध', 'ध', 'ध', 'ध', 'ध', 'ध', 'ध', 'ध', 'ध', 'ध', 'ध', 'ध', 'ध', 'ध', 'ध', 'ध', 'ध', 'ध', 'ध', 'ध', 'ध', 'ध', 'ध', 'ध', 'ध', 'ध', 'ध', 'ध', 'ध', 'ध', 'ध', 'ध', 'ध', 'ध', 'ध', 'ध', 'ध', 'ध', 'ध', 'ध', 'ध', 'ध', 'ध', 'ध', 'ध', 'ध', 'ध', 'ध', 'ध', 'ध', 'ध', 'ध', 'ध', 'छ', 'ध', 'ध', 'ध', 'ध', 'ध', 'छ', 'ध', 'क', 'ध', 'ध', 'ध', 'ध', 'ध', 'ध', 'ध', 'ध', 'ध', 'ध', 'ध', 'ध', 'ध', 'ध', 'ध', 'ध', 'ध', 'ध', 'ध', 'ध', 'ध', 'ध', 'ध', 'ध', 'ध', 'ध', 'ध', 'ध', 'ध', 'ध', 'ध', 'ध', 'ध', 'ध', 'ध', 'ध', 'ध', 'ध', 'ध', 'ध', 'ध', 'ध', 'ध', 'ध', 'ध', 'ध', 'ध', 'ध', 'ध', 'ध', 'ध', 'ध', 'ध', 'ध', 'ध', 'ध', 'ध', 'ध', 'ध', 'ध', 'ध', 'ध', 'ध', 'ध', 'ध', 'ध', 'ध', 'ध', 'ध', 'ध', 'ध', 'ध', 'ध', 'ध', 'ध', 'ध', 'ध', 'ध', 'ध', 'ध', 'ध', 'ध', 'ध', 'ध', 'ध', 'ध', 'ध', 'ध', 'ध', 'ध', 'ध', 'ध', 'ध', 'ध', 'ध', 'ध', 'ध', 'ध', 'ध', 'ध', 'ध', 'ध', 'ध', 'ध', 'ध', 'ध', 'ध', 'ध', 'ध', 'च', 'ध', 'ध', 'ध', 'ध', 'ध', 'ध', 'ध', 'ध', 'ध', 'ध', 'ध', 'ध', 'ध', 'ध', 'ध', 'ध', 'ध', 'ध', 'ध', 'ध', 'ध', 'ध', 'ध', 'ध', 'ध', 'ध', 'ध', 'ध', 'ध', 'ध', 'ध', 'ध', 'ध', 'ध', 'क', 'क', 'क', 'क', 'क', 'क', 'क', 'क', 'क', 'क', 'क', 'क', 'क', 'क', 'क', 'क', 'क', 'झ', 'क', 'क', 'क', 'क', 'क', 'क', 'क', 'क', 'क', 'क', 'क', 'क', 'क', 'क', 'क', 'क', 'क', 'क', 'क', 'क', 'क', 'क', 'क', 'क', 'क', 'क', 'क', 'क', 'क', 'क', 'क', 'क', 'क', 'क', 'क', 'क', 'क', 'क', 'क', 'क', 'क', 'क', 'क', 'क', 'क', 'क', 'क', 'क', 'क', 'क', 'क', 'क', 'क', 'क', 'क', 'क', 'क', 'क', 'क', 'क', 'क', 'क', 'क', 'क', 'क', 'क', 'क', 'क', 'क', 'झ', 'क', 'क', 'क', 'क', 'क', 'क', 'क', 'क', 'क', 'क', 'क', 'क', 'क', 'क', 'क', 'क', 'क', 'क', 'क', 'क', 'क', 'क', 'क', 'क', 'क', 'क', 'क', 'क', 'क', 'क', 'क', 'क', 'क', 'क', 'क', 'क', 'क', 'क', 'क', 'क', 'क', 'क', 'क', 'क', 'क', 'क', 'क', 'क', 'क', 'क', 'क', 'क', 'क', 'क', 'क', 'क', 'क', 'क', 'क', 'क', 'क', 'क', 'क', 'क', 'क', 'क', 'क', 'क', 'क', 'क', 'क', 'क', 'क', 'क', 'क', 'क', 'क', 'क', 'क', 'क', 'क', 'क', 'क', 'क', 'क', 'क', 'क', 'क', 'ख', 'क', 'क', 'क', 'क', 'क', 'क', 'क', 'क', 'क', 'क', 'क', 'क', 'क', 'क', 'क', 'क', 'क', 'क', 'क', 'क', 'क', 'क', 'क', 'क', 'क', 'क', 'क', 'क', 'क', 'क', 'क', 'क', 'क', 'क', 'क', 'झ', 'क', 'क', 'क', 'क', 'क', 'क', 'क', 'क', 'क', 'क', 'क', 'क', 'क', 'क', 'क', 'क', 'क', 'क', 'क', 'क', 'क', 'क', 'क', 'क', 'क', 'क', 'क', 'क', 'क', 'क', 'क', 'क', 'क', 'क', 'क', 'क', 'क', 'क', 'क', 'क', 'छ', 'क', 'क', 'क', 'क', 'क', 'क', 'क', 'क', 'क', 'क', 'क', 'क', 'क', 'क', 'क', 'क', 'क', 'क', 'क', 'क', 'क', 'क', 'क', 'क', 'क', 'क', 'क', 'क', 'क', 'क', 'क', 'क', 'क', 'क', 'क', 'क', 'क', 'क', 'क', 'क', 'क', 'क', 'क', 'क', 'क', 'क', 'झ', 'झ', 'झ', 'झ', 'झ', 'झ', 'झ', 'झ', 'झ', 'ख', 'झ', 'झ', 'झ', 'झ', 'झ', 'झ', 'झ', 'झ', 'झ', 'झ', 'झ', 'झ', 'झ', 'झ', 'झ', 'झ', 'झ', 'झ', 'झ', 'झ', 'झ', 'झ', 'झ', 'झ', 'झ', 'झ', 'झ', 'झ', 'झ', 'झ', 'झ', 'झ', 'झ', 'झ', 'झ', 'झ', 'झ', 'झ', 'झ', 'झ', 'झ', 'झ', 'झ', 'झ', 'झ', 'झ', 'झ', 'झ', 'झ', 'झ', 'झ', 'झ', 'झ', 'झ', 'झ', 'झ', 'झ', 'झ', 'झ', 'झ', 'झ', 'झ', 'झ', 'झ', 'झ', 'झ', 'झ', 'ध', 'झ', 'झ', 'झ', 'झ', 'झ', 'झ', 'झ', 'झ', 'झ', 'झ', 'झ', 'झ', 'ञ', 'झ', 'झ', 'झ', 'झ', 'झ', 'झ', 'झ', 'झ', 'झ', 'झ', 'झ', 'झ', 'झ', 'झ', 'झ', 'झ', 'झ', 'झ', 'झ', 'झ', 'झ', 'झ', 'झ', 'झ', 'झ', 'झ', 'झ', 'झ', 'झ', 'झ', 'झ', 'झ', 'झ', 'झ', 'झ', 'झ', 'झ', 'झ', 'झ', 'झ', 'झ', 'झ', 'झ', 'झ', 'झ', 'झ', 'झ', 'झ', 'झ', 'झ', 'झ', 'झ', 'झ', 'झ', 'झ', 'झ', 'झ', 'झ', 'झ', 'झ', 'झ', 'झ', 'झ', 'झ', 'झ', 'झ', 'झ', 'झ', 'झ', 'झ', 'झ', 'झ', 'झ', 'झ', 'झ', 'झ', 'झ', 'झ', 'झ', 'झ', 'झ', 'झ', 'झ', 'झ', 'झ', 'झ', 'झ', 'झ', 'झ', 'झ', 'झ', 'झ', 'झ', 'झ', 'झ', 'झ', 'झ', 'झ', 'झ', 'झ', 'झ', 'झ', 'झ', 'झ', 'झ', 'झ', 'झ', 'झ', 'झ', 'झ', 'झ', 'झ', 'झ', 'झ', 'झ', 'झ', 'झ', 'झ', 'झ', 'झ', 'झ', 'झ', 'झ', 'झ', 'झ', 'झ', 'झ', 'झ', 'झ', 'झ', 'झ', 'झ', 'झ', 'झ', 'झ', 'झ', 'झ', 'झ', 'झ', 'झ', 'झ', 'झ', 'झ', 'झ', 'झ', 'झ', 'झ', 'झ', 'झ', 'झ', 'झ', 'झ', 'झ', 'झ', 'झ', 'झ', 'झ', 'झ', 'झ', 'झ', 'झ', 'झ', 'झ', 'झ', 'झ', 'झ', 'झ', 'झ', 'झ', 'झ', 'झ', 'झ', 'झ', 'झ', 'झ', 'झ', 'झ', 'झ', 'झ', 'झ', 'झ', 'झ', 'झ', 'झ', 'झ', 'झ', 'झ', 'झ', 'झ', 'झ', 'झ', 'झ', 'झ', 'झ', 'झ', 'झ', 'झ', 'झ', 'झ', 'झ', 'झ', 'झ', 'झ', 'झ', 'झ', 'झ', 'झ', 'झ', 'झ']\n"
          ]
        }
      ]
    },
    {
      "cell_type": "markdown",
      "source": [
        "# Predicting New Image"
      ],
      "metadata": {
        "id": "cOOGyBfoVZl2"
      }
    },
    {
      "cell_type": "code",
      "source": [
        "image = plt.imread('/content/drive/MyDrive/image.png')\n",
        "plt.figure(figsize=(3, 12))\n",
        "plt.imshow(image,cmap='gray')\n",
        "plt.axis('off')\n",
        "print(\"The input image is:\")\n",
        "print(\"\")\n",
        "plt.show()"
      ],
      "metadata": {
        "id": "kybfqA5eU7hL",
        "colab": {
          "base_uri": "https://localhost:8080/",
          "height": 235
        },
        "outputId": "649b11d6-ae81-40f7-a989-ffaeb3d3114e"
      },
      "execution_count": null,
      "outputs": [
        {
          "output_type": "stream",
          "name": "stdout",
          "text": [
            "The input image is:\n",
            "\n"
          ]
        },
        {
          "output_type": "display_data",
          "data": {
            "text/plain": [
              "<Figure size 216x864 with 1 Axes>"
            ],
            "image/png": "[encoded data removed]"
          },
          "metadata": {
            "needs_background": "light"
          }
        }
      ]
    },
    {
      "cell_type": "code",
      "source": [
        "image = tf.keras.preprocessing.image.load_img('/content/drive/MyDrive/image.png', target_size=(32, 32))\n",
        "image = tf.keras.preprocessing.image.img_to_array(image)\n",
        "image = np.expand_dims(image, axis=0)\n",
        "prediction = model.predict(image)\n",
        "predicted_label = np.argmax(prediction)\n",
        "#print(predicted_label)\n",
        "predicted_character = label_map[predicted_label]\n",
        "from IPython.display import HTML\n",
        "predicted_letter= '<font size=\"36\">' + str(predicted_character) + '</font>'\n",
        "print(\"The predicted letter is:\")\n",
        "HTML(predicted_letter)"
      ],
      "metadata": {
        "id": "MAxXp7mfcMW3",
        "colab": {
          "base_uri": "https://localhost:8080/",
          "height": 113
        },
        "outputId": "2eb0a90a-c6bf-4464-b75c-c7b92201df18"
      },
      "execution_count": null,
      "outputs": [
        {
          "output_type": "stream",
          "name": "stdout",
          "text": [
            "1/1 [==============================] - 0s 74ms/step\n",
            "The predicted letter is:\n"
          ]
        },
        {
          "output_type": "execute_result",
          "data": {
            "text/plain": [
              "<IPython.core.display.HTML object>"
            ],
            "text/html": [
              "<font size=\"36\">क</font>"
            ]
          },
          "metadata": {},
          "execution_count": 15
        }
      ]
    },
    {
      "cell_type": "markdown",
      "source": [
        "### We can see that our model has accurately predicted the new handwrittern letter image that was given as the input.\n",
        "\n",
        "###The model developed for the handwritten letter classification task has achieved a high accuracy of 98% on test data. This is a promising result, indicating that the model is able to accurately classify handwritten letters.\n",
        "\n",
        "###In conclusion, the model developed for handwritten letter classification has demonstrated good performance, with the potential for practical applications. Further research could focus on improving the model by using additional data or exploring different model architectures or training methods."
      ],
      "metadata": {
        "id": "_JsszEbvS57B"
      }
    },
    {
      "cell_type": "code",
      "source": [
        "model.save('/content/drive/MyDrive/model.h5')"
      ],
      "metadata": {
        "id": "BOdq8eT1f0G0"
      },
      "execution_count": null,
      "outputs": []
    }
  ]
}